{
 "cells": [
  {
   "cell_type": "code",
   "execution_count": null,
   "id": "22c92ba0",
   "metadata": {},
   "outputs": [
    {
     "name": "stdout",
     "output_type": "stream",
     "text": [
      "Positive\n"
     ]
    }
   ],
   "source": [
    "# 1.Write a program that asks the user to input a number and prints whether the number is positive.\n",
    "a = int(input(\"Enter a number: \"))\n",
    "if a > 0:\n",
    "    print(\"Positive\")"
   ]
  },
  {
   "cell_type": "code",
   "execution_count": null,
   "id": "f6d0e344",
   "metadata": {},
   "outputs": [
    {
     "name": "stdout",
     "output_type": "stream",
     "text": [
      "Negative\n"
     ]
    }
   ],
   "source": [
    "# 2.Write a program that asks the user to input a number and prints whether the number is positive or negative.\n",
    "a = int(input(\"Enter a number: \"))\n",
    "if a < 0:\n",
    "    print(\"Negative\")\n",
    "else:\n",
    "    print(\"positive\")"
   ]
  },
  {
   "cell_type": "code",
   "execution_count": null,
   "id": "96c75bc0",
   "metadata": {},
   "outputs": [
    {
     "name": "stdout",
     "output_type": "stream",
     "text": [
      "Zero\n"
     ]
    }
   ],
   "source": [
    "# 3.Write a program that asks the user to input a number and prints whether the number is positive, negative, or zero.\n",
    "a = int(input(\"Enter a number: \"))\n",
    "if a < 0:\n",
    "    print(\"Negative\")\n",
    "elif a > 0:\n",
    "    print(\"positive\")\n",
    "else:\n",
    "    print(\"Zero\")"
   ]
  },
  {
   "cell_type": "code",
   "execution_count": null,
   "id": "80d6c3de",
   "metadata": {},
   "outputs": [
    {
     "name": "stdout",
     "output_type": "stream",
     "text": [
      "positive and odd\n"
     ]
    }
   ],
   "source": [
    "# 4.Write a program that asks the user to input a number and prints whether the number is positive and even, positive and odd, or negative.\n",
    "\n",
    "a = int(input(\"Enter a number: \"))\n",
    "if a > 0:\n",
    "    if a % 2 == 0:\n",
    "        print(\"positive and even\")\n",
    "    else:\n",
    "        print(\"positive and odd\")\n",
    "else:\n",
    "    print(\"negative\")"
   ]
  },
  {
   "cell_type": "code",
   "execution_count": null,
   "id": "ffe3e420",
   "metadata": {},
   "outputs": [
    {
     "name": "stdout",
     "output_type": "stream",
     "text": [
      "1\n",
      "2\n",
      "3\n",
      "4\n",
      "5\n",
      "6\n",
      "7\n",
      "8\n",
      "9\n",
      "10\n"
     ]
    }
   ],
   "source": [
    "# 5.Write a program that prints all the numbers from 1 to 10 using a for loop.\n",
    "a = 10\n",
    "for i in range(1, a+1):\n",
    "    print(i)\n",
    "    i += 1\n"
   ]
  },
  {
   "cell_type": "code",
   "execution_count": 18,
   "id": "d83c122d",
   "metadata": {},
   "outputs": [
    {
     "name": "stdout",
     "output_type": "stream",
     "text": [
      "1\n",
      "2\n",
      "3\n",
      "4\n",
      "5\n",
      "6\n",
      "7\n",
      "8\n",
      "9\n",
      "10\n"
     ]
    }
   ],
   "source": [
    "# 6.Write a program that prints all the numbers from 1 to 10 using a while loop.\n",
    "a = 1\n",
    "while a <= 10:\n",
    "    print(a)\n",
    "    a += 1\n"
   ]
  },
  {
   "cell_type": "code",
   "execution_count": 7,
   "id": "192782eb",
   "metadata": {},
   "outputs": [
    {
     "name": "stdout",
     "output_type": "stream",
     "text": [
      "* * * * * \n",
      "* * * * * \n",
      "* * * * * \n",
      "* * * * * \n",
      "* * * * * \n"
     ]
    }
   ],
   "source": [
    "#7. Write a program that prints a 5x5 grid of asterisks (*) using nested loops.\n",
    "a = 5\n",
    "b = 5\n",
    "for i in range(1, a+1):\n",
    "    for j in range(1, b+1):\n",
    "        print(\"*\", end=\" \")\n",
    "    print()"
   ]
  },
  {
   "cell_type": "code",
   "execution_count": null,
   "id": "8b423bf5",
   "metadata": {},
   "outputs": [
    {
     "name": "stdout",
     "output_type": "stream",
     "text": [
      "46\n"
     ]
    }
   ],
   "source": [
    "#8. Write a program that asks the user to input numbers until they input 0. The program should print the sum of all the input numbers.\n",
    "sum = 0\n",
    "while True:\n",
    "    a = int(input(\"Enter: \"))\n",
    "    if a ==0:\n",
    "        break\n",
    "    sum += a \n",
    "    \n",
    "print(sum)"
   ]
  },
  {
   "cell_type": "code",
   "execution_count": null,
   "id": "12e2655d",
   "metadata": {},
   "outputs": [
    {
     "name": "stdout",
     "output_type": "stream",
     "text": [
      "1\n",
      "2\n",
      "3\n",
      "4\n",
      "6\n",
      "7\n",
      "8\n",
      "9\n",
      "10\n"
     ]
    }
   ],
   "source": [
    "#9. Write a program that prints all the numbers from 1 to 10 except 5 using a for loop and continue statement.\n",
    "\n",
    "a = 10\n",
    "for i in range(1, a+1):\n",
    "    if i == 5:\n",
    "        continue\n",
    "    print(i)"
   ]
  },
  {
   "cell_type": "code",
   "execution_count": 8,
   "id": "883b4bed",
   "metadata": {},
   "outputs": [],
   "source": [
    "#10. Write a program that defines an empty function using the pass statement.\n",
    "def myfunc():\n",
    "    pass"
   ]
  },
  {
   "cell_type": "markdown",
   "id": "3efa0337",
   "metadata": {},
   "source": [
    "### Assignment 11: Combining Loops and Conditionals\n",
    "\n",
    "Write a program that asks the user to input a number and prints all the even numbers from 1 to that number using a for loop.\n",
    "\n",
    "### Assignment 12: Factorial Calculation\n",
    "\n",
    "Write a program that calculates the factorial of a number input by the user using a while loop.\n",
    "\n",
    "### Assignment 13: Sum of Digits\n",
    "\n",
    "Write a program that calculates the sum of the digits of a number input by the user using a while loop.\n",
    "\n",
    "### Assignment 14: Prime Number Check\n",
    "\n",
    "Write a program that checks if a number input by the user is a prime number using a for loop.\n",
    "\n",
    "### Assignment 15: Fibonacci Sequence\n",
    "\n",
    "Write a program that prints the first n Fibonacci numbers, where n is input by the user."
   ]
  },
  {
   "cell_type": "code",
   "execution_count": 10,
   "id": "0e5bd78a",
   "metadata": {},
   "outputs": [
    {
     "name": "stdout",
     "output_type": "stream",
     "text": [
      "2\n",
      "4\n",
      "6\n",
      "8\n",
      "10\n",
      "12\n",
      "14\n"
     ]
    }
   ],
   "source": [
    "# 11.Write a program that asks the user to input a number and prints all the even numbers from 1 to that number using a for loop.\n",
    "a = int(input(\"Enter a number: \"))\n",
    "for i in range(1, a+1):\n",
    "    if i % 2 ==0:\n",
    "        print(i)\n"
   ]
  },
  {
   "cell_type": "code",
   "execution_count": 13,
   "id": "b62619a7",
   "metadata": {},
   "outputs": [
    {
     "name": "stdout",
     "output_type": "stream",
     "text": [
      "120\n"
     ]
    }
   ],
   "source": [
    "# 12.Write a program that calculates the factorial of a number input by the user using a while loop.\n",
    "a = int(input(\"enter: \"))\n",
    "factorial = 1\n",
    "i = 1\n",
    "while i <= a:\n",
    "    factorial *= i\n",
    "    i += 1\n",
    "print(factorial)\n"
   ]
  },
  {
   "cell_type": "code",
   "execution_count": 15,
   "id": "eeb2d160",
   "metadata": {},
   "outputs": [
    {
     "name": "stdout",
     "output_type": "stream",
     "text": [
      "7\n"
     ]
    }
   ],
   "source": [
    "# 13.Write a program that calculates the sum of the digits of a number input by the user using a while loop.\n",
    "a = int(input(\"Enter: \"))\n",
    "sum = 0\n",
    "while a > 0:\n",
    "    digit = a%10\n",
    "    sum +=digit\n",
    "    a = a//10 \n",
    "    \n",
    "print(sum)    \n",
    "    "
   ]
  },
  {
   "cell_type": "code",
   "execution_count": 18,
   "id": "35da5e56",
   "metadata": {},
   "outputs": [
    {
     "name": "stdout",
     "output_type": "stream",
     "text": [
      "6 is not a prime number\n"
     ]
    }
   ],
   "source": [
    "# 14.Write a program that checks if a number input by the user is a prime number using a for loop.\n",
    "\n",
    "a = int(input(\"Enter: \"))\n",
    "if a>1:\n",
    "    for i in range(2,a):\n",
    "        if a % i == 0:\n",
    "            print(a, \"is not a prime number\")\n",
    "            break\n",
    "        else:\n",
    "            print(a, \"is a prime number\")\n",
    "else:\n",
    "    print(a, \"is not a prime number\")\n",
    "            \n",
    "    "
   ]
  },
  {
   "cell_type": "code",
   "execution_count": 21,
   "id": "3a482077",
   "metadata": {},
   "outputs": [
    {
     "name": "stdout",
     "output_type": "stream",
     "text": [
      "0 1 1 2 3 5 "
     ]
    }
   ],
   "source": [
    "# 15.Write a program that prints the first n Fibonacci numbers, where n is input by the user.\n",
    "\n",
    "a = int(input(\"Enter: \"))\n",
    "x,y = 0,1\n",
    "for i in range(a):\n",
    "    print(x, end=\" \")\n",
    "    x,y =y, x+y "
   ]
  }
 ],
 "metadata": {
  "kernelspec": {
   "display_name": "Python 3",
   "language": "python",
   "name": "python3"
  },
  "language_info": {
   "codemirror_mode": {
    "name": "ipython",
    "version": 3
   },
   "file_extension": ".py",
   "mimetype": "text/x-python",
   "name": "python",
   "nbconvert_exporter": "python",
   "pygments_lexer": "ipython3",
   "version": "3.12.3"
  }
 },
 "nbformat": 4,
 "nbformat_minor": 5
}
